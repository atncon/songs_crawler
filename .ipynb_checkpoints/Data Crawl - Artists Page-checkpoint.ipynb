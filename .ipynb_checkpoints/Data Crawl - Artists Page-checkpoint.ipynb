{
 "cells": [
  {
   "cell_type": "code",
   "execution_count": null,
   "metadata": {},
   "outputs": [],
   "source": [
    "import pandas as pd\n",
    "from selenium import webdriver"
   ]
  },
  {
   "cell_type": "code",
   "execution_count": null,
   "metadata": {},
   "outputs": [],
   "source": [
    "chrome_path = \"/Users/sheetalpandrekar/Documents/Jupyter Notebooks/ATnC/Spire/chromedriver\"\n",
    "driver=webdriver.Chrome(chrome_path)"
   ]
  },
  {
   "cell_type": "code",
   "execution_count": null,
   "metadata": {},
   "outputs": [],
   "source": [
    "l = 1\n",
    "\n",
    "with open('Data/links.csv', 'r') as f:\n",
    "    for link in f:\n",
    "        print(l)\n",
    "        print(link)\n",
    "        driver.get(link)\n",
    "        \n",
    "        elm = driver.find_element_by_xpath(\"/html/body/div[2]/div/div[2]/h1\")\n",
    "        artist_name = elm.text\n",
    "        \n",
    "        print(artist_name)\n",
    "        \n",
    "        with open(\"Data/artists.csv\", \"a\", newline='') as fp:\n",
    "            wr = csv.writer(fp, dialect='excel')\n",
    "            link = link.replace('\\\"', '')\n",
    "            link = link.replace('\\n', '')\n",
    "            wr.writerow([artist_name,link])\n",
    "        \n",
    "        l =l+1"
   ]
  }
 ],
 "metadata": {
  "kernelspec": {
   "display_name": "Python 3",
   "language": "python",
   "name": "python3"
  },
  "language_info": {
   "codemirror_mode": {
    "name": "ipython",
    "version": 3
   },
   "file_extension": ".py",
   "mimetype": "text/x-python",
   "name": "python",
   "nbconvert_exporter": "python",
   "pygments_lexer": "ipython3",
   "version": "3.8.5"
  }
 },
 "nbformat": 4,
 "nbformat_minor": 4
}
